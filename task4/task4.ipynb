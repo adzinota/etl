{
 "cells": [
  {
   "cell_type": "markdown",
   "id": "531fceec-f1b0-44c0-9ac6-fde2d719f228",
   "metadata": {},
   "source": [
    "### Задача 2.1"
   ]
  },
  {
   "cell_type": "markdown",
   "id": "6798190e-0f03-4687-9a9b-c333a790ef4f",
   "metadata": {},
   "source": [
    "Импортируем необходимые библиотеки и модули"
   ]
  },
  {
   "cell_type": "code",
   "execution_count": 1,
   "id": "1ab4fc5a-5be7-4354-b421-8ff070c5bfb1",
   "metadata": {},
   "outputs": [],
   "source": [
    "import findspark\n",
    "findspark.init('/home/joann/spark-3.1.1-bin-hadoop3.2')\n",
    "\n",
    "import pyspark\n",
    "from pyspark.sql import SparkSession\n",
    "from pyspark.sql.functions import lower, col"
   ]
  },
  {
   "cell_type": "markdown",
   "id": "048612ca-1b7d-43ca-847d-d706c15e7c7f",
   "metadata": {},
   "source": [
    "Пропишем путь к файлам и создадим spark-сессию"
   ]
  },
  {
   "cell_type": "code",
   "execution_count": 3,
   "id": "5c06f76b-ac9a-431a-af59-d6f140ba8515",
   "metadata": {},
   "outputs": [],
   "source": [
    "PATH = '/home/joann/src'\n",
    "\n",
    "spark = SparkSession \\\n",
    "        .builder \\\n",
    "        .appName('olympic_athletes') \\\n",
    "        .enableHiveSupport() \\\n",
    "        .getOrCreate()\n",
    "\n",
    "spark.sparkContext.setLogLevel('OFF')"
   ]
  },
  {
   "cell_type": "markdown",
   "id": "d5530349-7931-456c-b91a-7e666dd5258a",
   "metadata": {},
   "source": [
    "**Задание 1**\n",
    "\n",
    "Сгенерировать DataFrame из трёх колонок (row_id, discipline, season) - олимпийские дисциплины по сезонам.\n",
    "* row_id - число порядкового номера строки;\n",
    "* discipline - наименование олимпиский дисциплины на английском (полностью маленькими буквами);\n",
    "* season - сезон дисциплины (summer / winter);\n",
    "\n",
    "Укажите не мнее чем по 5 дисциплин для каждого сезона.\n",
    "\n",
    "Сохраните DataFrame в csv-файл, разделитель колонок табуляция, первая строка должна содержать название колонок.\n",
    "\n",
    "Данные должны быть сохранены в виде 1 csv-файла, а не множества маленьких."
   ]
  },
  {
   "cell_type": "markdown",
   "id": "e0085145-434f-4965-9127-03fe83a42c9e",
   "metadata": {},
   "source": [
    "Сформируем переменные, содержащие данные и схему\n",
    "\n",
    "В данных десять строк отведем летним дисциплинам (т.к. их в целом больше, чем зимним), и пять строк - зимним"
   ]
  },
  {
   "cell_type": "code",
   "execution_count": 4,
   "id": "d7ddf0b5-f2a7-492f-80d9-542d4cec2cf4",
   "metadata": {},
   "outputs": [],
   "source": [
    "data = [(1, 'badminton', 'summer'),\n",
    "        (2, 'basketball', 'summer'),\n",
    "        (3, 'boxing', 'summer'),\n",
    "        (4, 'golf', 'summer'),\n",
    "        (5, 'hockey', 'summer'),\n",
    "        (6, 'karate', 'summer'),\n",
    "        (7, 'skateboarding', 'summer'),\n",
    "        (8, 'swimming', 'summer'),\n",
    "        (9, 'tennis', 'summer'),\n",
    "        (10, 'volleyball', 'summer'),\n",
    "        (11, 'biathlon', 'winter'),\n",
    "        (12, 'bobsleigh', 'winter'),\n",
    "        (13, 'curling', 'winter'),\n",
    "        (14, 'luge', 'winter'),\n",
    "        (15, 'snowboard', 'winter')]\n",
    "\n",
    "schema = '''row_id bigint,\n",
    "            discipline string,\n",
    "            season string'''"
   ]
  },
  {
   "cell_type": "markdown",
   "id": "0b86559f-34fc-4724-a49d-a95cff8a76c6",
   "metadata": {},
   "source": [
    "Создадим датафрейм и выведем его на экран"
   ]
  },
  {
   "cell_type": "code",
   "execution_count": 5,
   "id": "c25a50d0-1c6b-4063-8191-908be13606da",
   "metadata": {},
   "outputs": [
    {
     "name": "stdout",
     "output_type": "stream",
     "text": [
      "+------+-------------+------+\n",
      "|row_id|   discipline|season|\n",
      "+------+-------------+------+\n",
      "|     1|    badminton|summer|\n",
      "|     2|   basketball|summer|\n",
      "|     3|       boxing|summer|\n",
      "|     4|         golf|summer|\n",
      "|     5|       hockey|summer|\n",
      "|     6|       karate|summer|\n",
      "|     7|skateboarding|summer|\n",
      "|     8|     swimming|summer|\n",
      "|     9|       tennis|summer|\n",
      "|    10|   volleyball|summer|\n",
      "|    11|     biathlon|winter|\n",
      "|    12|    bobsleigh|winter|\n",
      "|    13|      curling|winter|\n",
      "|    14|         luge|winter|\n",
      "|    15|    snowboard|winter|\n",
      "+------+-------------+------+\n",
      "\n"
     ]
    }
   ],
   "source": [
    "df_olympic_sports = spark.createDataFrame(data, schema)\n",
    "\n",
    "df_olympic_sports.show()"
   ]
  },
  {
   "cell_type": "markdown",
   "id": "9ae14e38-8e85-4673-ba3d-89c237924d09",
   "metadata": {},
   "source": [
    "Сохраним датафрейм в csv файл и прочитаем его, чтобы проверить корректность сохранения"
   ]
  },
  {
   "cell_type": "code",
   "execution_count": 6,
   "id": "2ef96966-6ce2-434d-bc62-100a4b89a002",
   "metadata": {},
   "outputs": [
    {
     "name": "stdout",
     "output_type": "stream",
     "text": [
      "+------+-------------+------+\n",
      "|row_id|   discipline|season|\n",
      "+------+-------------+------+\n",
      "|     1|    badminton|summer|\n",
      "|     2|   basketball|summer|\n",
      "|     3|       boxing|summer|\n",
      "|     4|         golf|summer|\n",
      "|     5|       hockey|summer|\n",
      "|     6|       karate|summer|\n",
      "|     7|skateboarding|summer|\n",
      "|     8|     swimming|summer|\n",
      "|     9|       tennis|summer|\n",
      "|    10|   volleyball|summer|\n",
      "|    11|     biathlon|winter|\n",
      "|    12|    bobsleigh|winter|\n",
      "|    13|      curling|winter|\n",
      "|    14|         luge|winter|\n",
      "|    15|    snowboard|winter|\n",
      "+------+-------------+------+\n",
      "\n"
     ]
    }
   ],
   "source": [
    "df_olympic_sports\\\n",
    "    .repartition(1)\\\n",
    "    .write\\\n",
    "    .mode('overwrite')\\\n",
    "    .options(header=True, delimiter='\\t')\\\n",
    "    .csv(f'{PATH}/olympic_sports.csv')\n",
    "\n",
    "spark\\\n",
    "    .read\\\n",
    "    .options(header=True, delimiter='\\t')\\\n",
    "    .csv(f'{PATH}/olympic_sports.csv')\\\n",
    "    .show()"
   ]
  },
  {
   "cell_type": "markdown",
   "id": "1bdd2c47-dd5a-44b7-a76a-d591c9c3e308",
   "metadata": {},
   "source": [
    "**Задание 2**\n",
    "\n",
    "Прочитайте исходный файл \"Athletes.csv\".\n",
    "\n",
    "Посчитайте в разрезе дисциплин сколько всего спортсменов в каждой из дисциплин принимало участие.\n",
    "\n",
    "Результат сохраните в формате parquet."
   ]
  },
  {
   "cell_type": "markdown",
   "id": "28d6408d-78ce-4f12-9c14-d14db7171adf",
   "metadata": {},
   "source": [
    "Прочитаем файл Athletes.csv и выведем на экран первые десять строк"
   ]
  },
  {
   "cell_type": "code",
   "execution_count": 7,
   "id": "e1ec6166-16bc-4f5c-960d-a8073970f053",
   "metadata": {},
   "outputs": [
    {
     "name": "stdout",
     "output_type": "stream",
     "text": [
      "+-----------------+--------------------+-------------------+\n",
      "|             Name|                 NOC|         Discipline|\n",
      "+-----------------+--------------------+-------------------+\n",
      "|  AALERUD Katrine|              Norway|       Cycling Road|\n",
      "|      ABAD Nestor|               Spain|Artistic Gymnastics|\n",
      "|ABAGNALE Giovanni|               Italy|             Rowing|\n",
      "|   ABALDE Alberto|               Spain|         Basketball|\n",
      "|    ABALDE Tamara|               Spain|         Basketball|\n",
      "|        ABALO Luc|              France|           Handball|\n",
      "|     ABAROA Cesar|               Chile|             Rowing|\n",
      "|    ABASS Abobakr|               Sudan|           Swimming|\n",
      "| ABBASALI Hamideh|Islamic Republic ...|             Karate|\n",
      "|    ABBASOV Islam|          Azerbaijan|          Wrestling|\n",
      "+-----------------+--------------------+-------------------+\n",
      "only showing top 10 rows\n",
      "\n"
     ]
    }
   ],
   "source": [
    "df_athletes = spark\\\n",
    "                .read\\\n",
    "                .options(header=True, delimiter=';')\\\n",
    "                .csv(f'{PATH}/Athletes.csv')\n",
    "\n",
    "df_athletes.show(10)"
   ]
  },
  {
   "cell_type": "markdown",
   "id": "19419774-b552-48fe-922a-bbc308fac757",
   "metadata": {},
   "source": [
    "Сгруппируем данные по столбцу Discipline и посчитаем количество значений"
   ]
  },
  {
   "cell_type": "code",
   "execution_count": 8,
   "id": "f022fe9d-1d6e-4f40-aefb-43c44f4bc707",
   "metadata": {},
   "outputs": [
    {
     "name": "stdout",
     "output_type": "stream",
     "text": [
      "+-------------------+-----+\n",
      "|         Discipline|count|\n",
      "+-------------------+-----+\n",
      "|     3x3 Basketball|   62|\n",
      "|            Archery|  122|\n",
      "|Artistic Gymnastics|  187|\n",
      "|  Artistic Swimming|   98|\n",
      "|          Athletics| 2068|\n",
      "|          Badminton|  164|\n",
      "|  Baseball/Softball|  220|\n",
      "|         Basketball|  280|\n",
      "|   Beach Volleyball|   90|\n",
      "|             Boxing|  270|\n",
      "+-------------------+-----+\n",
      "only showing top 10 rows\n",
      "\n"
     ]
    }
   ],
   "source": [
    "df_pivot_athletes = df_athletes\\\n",
    "                        .groupBy('Discipline')\\\n",
    "                        .count()\n",
    "\n",
    "df_pivot_athletes\\\n",
    "    .sort('Discipline')\\\n",
    "    .show(10)"
   ]
  },
  {
   "cell_type": "markdown",
   "id": "9ceadc26-2997-4954-8d2e-ef91f48bbdb5",
   "metadata": {},
   "source": [
    "Сохраним датафрейм в файл parquet и прочитаем его, чтобы проверить корректность сохранения"
   ]
  },
  {
   "cell_type": "code",
   "execution_count": 10,
   "id": "003fd2f1-3d3e-4f3c-9bcc-c54697715d93",
   "metadata": {},
   "outputs": [
    {
     "name": "stdout",
     "output_type": "stream",
     "text": [
      "+-------------------+-----+\n",
      "|         Discipline|count|\n",
      "+-------------------+-----+\n",
      "|     3x3 Basketball|   62|\n",
      "|            Archery|  122|\n",
      "|Artistic Gymnastics|  187|\n",
      "|  Artistic Swimming|   98|\n",
      "|          Athletics| 2068|\n",
      "|          Badminton|  164|\n",
      "|  Baseball/Softball|  220|\n",
      "|         Basketball|  280|\n",
      "|   Beach Volleyball|   90|\n",
      "|             Boxing|  270|\n",
      "+-------------------+-----+\n",
      "only showing top 10 rows\n",
      "\n"
     ]
    }
   ],
   "source": [
    "df_pivot_athletes\\\n",
    "    .write\\\n",
    "    .mode('overwrite')\\\n",
    "    .options(header=True)\\\n",
    "    .parquet(f'{PATH}/pivot_athletes.parquet')\n",
    "\n",
    "spark\\\n",
    "    .read\\\n",
    "    .parquet(f'{PATH}/pivot_athletes.parquet')\\\n",
    "    .sort('Discipline')\\\n",
    "    .show(10)"
   ]
  },
  {
   "cell_type": "markdown",
   "id": "96cb677d-b6ee-4b4a-9924-cba5111d1e4d",
   "metadata": {},
   "source": [
    "**Задание 3**\n",
    "\n",
    "Прочитайте исходный файл \"Athletes.csv\".\n",
    "\n",
    "Посчитайте в разрезе дисциплин сколько всего спортсменов в каждой из дисциплин принимало участие.\n",
    "\n",
    "Получившийся результат нужно объединить с сгенерированным вами DataFrame из 1-го задания и в итоге вывести количество участников только по тем дисциплинам, что есть в вашем сгенерированном DataFrame.\n",
    "\n",
    "Результат сохраните в формате parquet."
   ]
  },
  {
   "cell_type": "markdown",
   "id": "31047468-4537-44f8-b238-7969b4f78dc3",
   "metadata": {},
   "source": [
    "Объединим датафреймы по столбцу с дисциплинами, заполним NaN нулями, удалим лишний столбец с дисциплинами"
   ]
  },
  {
   "cell_type": "code",
   "execution_count": 11,
   "id": "ea1e096c-218f-49b1-b2c6-7842641f7c7d",
   "metadata": {},
   "outputs": [
    {
     "name": "stdout",
     "output_type": "stream",
     "text": [
      "+------+-------------+------+-----+\n",
      "|row_id|   discipline|season|count|\n",
      "+------+-------------+------+-----+\n",
      "|     1|    badminton|summer|  164|\n",
      "|     2|   basketball|summer|  280|\n",
      "|     3|       boxing|summer|  270|\n",
      "|     4|         golf|summer|  115|\n",
      "|     5|       hockey|summer|  406|\n",
      "|     6|       karate|summer|   77|\n",
      "|     7|skateboarding|summer|   77|\n",
      "|     8|     swimming|summer|  743|\n",
      "|     9|       tennis|summer|  178|\n",
      "|    10|   volleyball|summer|  274|\n",
      "|    11|     biathlon|winter|    0|\n",
      "|    12|    bobsleigh|winter|    0|\n",
      "|    13|      curling|winter|    0|\n",
      "|    14|         luge|winter|    0|\n",
      "|    15|    snowboard|winter|    0|\n",
      "+------+-------------+------+-----+\n",
      "\n"
     ]
    }
   ],
   "source": [
    "df_total_pivot = df_olympic_sports\\\n",
    "    .join(df_pivot_athletes, lower(df_pivot_athletes.Discipline) == df_olympic_sports.discipline, 'left')\\\n",
    "    .fillna(value=0, subset='count')\\\n",
    "    .drop(df_pivot_athletes.Discipline)\n",
    "\n",
    "df_total_pivot.show()"
   ]
  },
  {
   "cell_type": "markdown",
   "id": "44a0bf88-e488-44f9-b928-0ec065136095",
   "metadata": {},
   "source": [
    "Сохраним датафрейм в файл parquet и прочитаем его, чтобы проверить корректность сохранения"
   ]
  },
  {
   "cell_type": "code",
   "execution_count": 12,
   "id": "e814de5a-a55a-432d-84de-06cfaceb2c80",
   "metadata": {},
   "outputs": [
    {
     "name": "stdout",
     "output_type": "stream",
     "text": [
      "+------+-------------+------+-----+\n",
      "|row_id|   discipline|season|count|\n",
      "+------+-------------+------+-----+\n",
      "|     1|    badminton|summer|  164|\n",
      "|     2|   basketball|summer|  280|\n",
      "|     3|       boxing|summer|  270|\n",
      "|     4|         golf|summer|  115|\n",
      "|     5|       hockey|summer|  406|\n",
      "|     6|       karate|summer|   77|\n",
      "|     7|skateboarding|summer|   77|\n",
      "|     8|     swimming|summer|  743|\n",
      "|     9|       tennis|summer|  178|\n",
      "|    10|   volleyball|summer|  274|\n",
      "|    11|     biathlon|winter|    0|\n",
      "|    12|    bobsleigh|winter|    0|\n",
      "|    13|      curling|winter|    0|\n",
      "|    14|         luge|winter|    0|\n",
      "|    15|    snowboard|winter|    0|\n",
      "+------+-------------+------+-----+\n",
      "\n"
     ]
    }
   ],
   "source": [
    "df_total_pivot\\\n",
    "    .write\\\n",
    "    .mode('overwrite')\\\n",
    "    .options(header=True)\\\n",
    "    .parquet(f'{PATH}/total_pivot.parquet')\n",
    "\n",
    "spark\\\n",
    "    .read\\\n",
    "    .parquet(f'{PATH}/total_pivot.parquet')\\\n",
    "    .sort('row_id')\\\n",
    "    .show()"
   ]
  },
  {
   "cell_type": "code",
   "execution_count": null,
   "id": "af8368d8-fce9-42a1-9eaa-96f8ec432c17",
   "metadata": {},
   "outputs": [],
   "source": []
  }
 ],
 "metadata": {
  "kernelspec": {
   "display_name": "Python 3 (ipykernel)",
   "language": "python",
   "name": "python3"
  },
  "language_info": {
   "codemirror_mode": {
    "name": "ipython",
    "version": 3
   },
   "file_extension": ".py",
   "mimetype": "text/x-python",
   "name": "python",
   "nbconvert_exporter": "python",
   "pygments_lexer": "ipython3",
   "version": "3.10.12"
  }
 },
 "nbformat": 4,
 "nbformat_minor": 5
}
